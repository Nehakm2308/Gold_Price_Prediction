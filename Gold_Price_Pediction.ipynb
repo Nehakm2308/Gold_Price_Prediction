{
 "cells": [
  {
   "cell_type": "code",
   "execution_count": 1,
   "id": "a5ef9ffb",
   "metadata": {},
   "outputs": [],
   "source": [
    "#importing the libraries\n",
    "import numpy as np\n",
    "import pandas as pd\n",
    "import matplotlib.pyplot as plt\n",
    "import seaborn as sns\n",
    "from sklearn.model_selection import train_test_split\n",
    "from sklearn.ensemble import RandomForestRegressor\n",
    "from sklearn import metrics"
   ]
  },
  {
   "cell_type": "code",
   "execution_count": 3,
   "id": "13d3acca",
   "metadata": {},
   "outputs": [],
   "source": [
    "#Data Collection and Processing\n",
    "#loading the csv data to a pandas dataframe\n",
    "gold_data=pd.read_csv('C:\\\\Users\\\\Neha K M\\\\Desktop\\\\InternshipProjects\\\\gld_price_data.csv')"
   ]
  },
  {
   "cell_type": "code",
   "execution_count": 4,
   "id": "b70740fd",
   "metadata": {},
   "outputs": [
    {
     "data": {
      "text/html": [
       "<div>\n",
       "<style scoped>\n",
       "    .dataframe tbody tr th:only-of-type {\n",
       "        vertical-align: middle;\n",
       "    }\n",
       "\n",
       "    .dataframe tbody tr th {\n",
       "        vertical-align: top;\n",
       "    }\n",
       "\n",
       "    .dataframe thead th {\n",
       "        text-align: right;\n",
       "    }\n",
       "</style>\n",
       "<table border=\"1\" class=\"dataframe\">\n",
       "  <thead>\n",
       "    <tr style=\"text-align: right;\">\n",
       "      <th></th>\n",
       "      <th>Date</th>\n",
       "      <th>SPX</th>\n",
       "      <th>GLD</th>\n",
       "      <th>USO</th>\n",
       "      <th>SLV</th>\n",
       "      <th>EUR/USD</th>\n",
       "    </tr>\n",
       "  </thead>\n",
       "  <tbody>\n",
       "    <tr>\n",
       "      <th>0</th>\n",
       "      <td>1/2/2008</td>\n",
       "      <td>1447.160034</td>\n",
       "      <td>84.860001</td>\n",
       "      <td>78.470001</td>\n",
       "      <td>15.180</td>\n",
       "      <td>1.471692</td>\n",
       "    </tr>\n",
       "    <tr>\n",
       "      <th>1</th>\n",
       "      <td>1/3/2008</td>\n",
       "      <td>1447.160034</td>\n",
       "      <td>85.570000</td>\n",
       "      <td>78.370003</td>\n",
       "      <td>15.285</td>\n",
       "      <td>1.474491</td>\n",
       "    </tr>\n",
       "    <tr>\n",
       "      <th>2</th>\n",
       "      <td>1/4/2008</td>\n",
       "      <td>1411.630005</td>\n",
       "      <td>85.129997</td>\n",
       "      <td>77.309998</td>\n",
       "      <td>15.167</td>\n",
       "      <td>1.475492</td>\n",
       "    </tr>\n",
       "    <tr>\n",
       "      <th>3</th>\n",
       "      <td>1/7/2008</td>\n",
       "      <td>1416.180054</td>\n",
       "      <td>84.769997</td>\n",
       "      <td>75.500000</td>\n",
       "      <td>15.053</td>\n",
       "      <td>1.468299</td>\n",
       "    </tr>\n",
       "    <tr>\n",
       "      <th>4</th>\n",
       "      <td>1/8/2008</td>\n",
       "      <td>1390.189941</td>\n",
       "      <td>86.779999</td>\n",
       "      <td>76.059998</td>\n",
       "      <td>15.590</td>\n",
       "      <td>1.557099</td>\n",
       "    </tr>\n",
       "  </tbody>\n",
       "</table>\n",
       "</div>"
      ],
      "text/plain": [
       "       Date          SPX        GLD        USO     SLV   EUR/USD\n",
       "0  1/2/2008  1447.160034  84.860001  78.470001  15.180  1.471692\n",
       "1  1/3/2008  1447.160034  85.570000  78.370003  15.285  1.474491\n",
       "2  1/4/2008  1411.630005  85.129997  77.309998  15.167  1.475492\n",
       "3  1/7/2008  1416.180054  84.769997  75.500000  15.053  1.468299\n",
       "4  1/8/2008  1390.189941  86.779999  76.059998  15.590  1.557099"
      ]
     },
     "execution_count": 4,
     "metadata": {},
     "output_type": "execute_result"
    }
   ],
   "source": [
    "#print first five rows in the DataFrame\n",
    "gold_data.head()"
   ]
  },
  {
   "cell_type": "code",
   "execution_count": 5,
   "id": "6da48a67",
   "metadata": {},
   "outputs": [
    {
     "data": {
      "text/html": [
       "<div>\n",
       "<style scoped>\n",
       "    .dataframe tbody tr th:only-of-type {\n",
       "        vertical-align: middle;\n",
       "    }\n",
       "\n",
       "    .dataframe tbody tr th {\n",
       "        vertical-align: top;\n",
       "    }\n",
       "\n",
       "    .dataframe thead th {\n",
       "        text-align: right;\n",
       "    }\n",
       "</style>\n",
       "<table border=\"1\" class=\"dataframe\">\n",
       "  <thead>\n",
       "    <tr style=\"text-align: right;\">\n",
       "      <th></th>\n",
       "      <th>Date</th>\n",
       "      <th>SPX</th>\n",
       "      <th>GLD</th>\n",
       "      <th>USO</th>\n",
       "      <th>SLV</th>\n",
       "      <th>EUR/USD</th>\n",
       "    </tr>\n",
       "  </thead>\n",
       "  <tbody>\n",
       "    <tr>\n",
       "      <th>2285</th>\n",
       "      <td>5/8/2018</td>\n",
       "      <td>2671.919922</td>\n",
       "      <td>124.589996</td>\n",
       "      <td>14.0600</td>\n",
       "      <td>15.5100</td>\n",
       "      <td>1.186789</td>\n",
       "    </tr>\n",
       "    <tr>\n",
       "      <th>2286</th>\n",
       "      <td>5/9/2018</td>\n",
       "      <td>2697.790039</td>\n",
       "      <td>124.330002</td>\n",
       "      <td>14.3700</td>\n",
       "      <td>15.5300</td>\n",
       "      <td>1.184722</td>\n",
       "    </tr>\n",
       "    <tr>\n",
       "      <th>2287</th>\n",
       "      <td>5/10/2018</td>\n",
       "      <td>2723.070068</td>\n",
       "      <td>125.180000</td>\n",
       "      <td>14.4100</td>\n",
       "      <td>15.7400</td>\n",
       "      <td>1.191753</td>\n",
       "    </tr>\n",
       "    <tr>\n",
       "      <th>2288</th>\n",
       "      <td>5/14/2018</td>\n",
       "      <td>2730.129883</td>\n",
       "      <td>124.489998</td>\n",
       "      <td>14.3800</td>\n",
       "      <td>15.5600</td>\n",
       "      <td>1.193118</td>\n",
       "    </tr>\n",
       "    <tr>\n",
       "      <th>2289</th>\n",
       "      <td>5/16/2018</td>\n",
       "      <td>2725.780029</td>\n",
       "      <td>122.543800</td>\n",
       "      <td>14.4058</td>\n",
       "      <td>15.4542</td>\n",
       "      <td>1.182033</td>\n",
       "    </tr>\n",
       "  </tbody>\n",
       "</table>\n",
       "</div>"
      ],
      "text/plain": [
       "           Date          SPX         GLD      USO      SLV   EUR/USD\n",
       "2285   5/8/2018  2671.919922  124.589996  14.0600  15.5100  1.186789\n",
       "2286   5/9/2018  2697.790039  124.330002  14.3700  15.5300  1.184722\n",
       "2287  5/10/2018  2723.070068  125.180000  14.4100  15.7400  1.191753\n",
       "2288  5/14/2018  2730.129883  124.489998  14.3800  15.5600  1.193118\n",
       "2289  5/16/2018  2725.780029  122.543800  14.4058  15.4542  1.182033"
      ]
     },
     "execution_count": 5,
     "metadata": {},
     "output_type": "execute_result"
    }
   ],
   "source": [
    "#print last 5 rows of the DataFrame\n",
    "gold_data.tail()"
   ]
  },
  {
   "cell_type": "code",
   "execution_count": 6,
   "id": "b646e500",
   "metadata": {},
   "outputs": [
    {
     "data": {
      "text/plain": [
       "(2290, 6)"
      ]
     },
     "execution_count": 6,
     "metadata": {},
     "output_type": "execute_result"
    }
   ],
   "source": [
    "#number of rows and columns\n",
    "gold_data.shape"
   ]
  },
  {
   "cell_type": "code",
   "execution_count": 7,
   "id": "b05c450a",
   "metadata": {},
   "outputs": [
    {
     "name": "stdout",
     "output_type": "stream",
     "text": [
      "<class 'pandas.core.frame.DataFrame'>\n",
      "RangeIndex: 2290 entries, 0 to 2289\n",
      "Data columns (total 6 columns):\n",
      " #   Column   Non-Null Count  Dtype  \n",
      "---  ------   --------------  -----  \n",
      " 0   Date     2290 non-null   object \n",
      " 1   SPX      2290 non-null   float64\n",
      " 2   GLD      2290 non-null   float64\n",
      " 3   USO      2290 non-null   float64\n",
      " 4   SLV      2290 non-null   float64\n",
      " 5   EUR/USD  2290 non-null   float64\n",
      "dtypes: float64(5), object(1)\n",
      "memory usage: 107.5+ KB\n"
     ]
    }
   ],
   "source": [
    "#getting some basic information about the data\n",
    "gold_data.info()"
   ]
  },
  {
   "cell_type": "code",
   "execution_count": 8,
   "id": "959091ec",
   "metadata": {},
   "outputs": [
    {
     "data": {
      "text/plain": [
       "Date       0\n",
       "SPX        0\n",
       "GLD        0\n",
       "USO        0\n",
       "SLV        0\n",
       "EUR/USD    0\n",
       "dtype: int64"
      ]
     },
     "execution_count": 8,
     "metadata": {},
     "output_type": "execute_result"
    }
   ],
   "source": [
    "#checking the number of missing values\n",
    "gold_data.isnull().sum()"
   ]
  },
  {
   "cell_type": "code",
   "execution_count": 9,
   "id": "15e70406",
   "metadata": {},
   "outputs": [
    {
     "data": {
      "text/html": [
       "<div>\n",
       "<style scoped>\n",
       "    .dataframe tbody tr th:only-of-type {\n",
       "        vertical-align: middle;\n",
       "    }\n",
       "\n",
       "    .dataframe tbody tr th {\n",
       "        vertical-align: top;\n",
       "    }\n",
       "\n",
       "    .dataframe thead th {\n",
       "        text-align: right;\n",
       "    }\n",
       "</style>\n",
       "<table border=\"1\" class=\"dataframe\">\n",
       "  <thead>\n",
       "    <tr style=\"text-align: right;\">\n",
       "      <th></th>\n",
       "      <th>SPX</th>\n",
       "      <th>GLD</th>\n",
       "      <th>USO</th>\n",
       "      <th>SLV</th>\n",
       "      <th>EUR/USD</th>\n",
       "    </tr>\n",
       "  </thead>\n",
       "  <tbody>\n",
       "    <tr>\n",
       "      <th>count</th>\n",
       "      <td>2290.000000</td>\n",
       "      <td>2290.000000</td>\n",
       "      <td>2290.000000</td>\n",
       "      <td>2290.000000</td>\n",
       "      <td>2290.000000</td>\n",
       "    </tr>\n",
       "    <tr>\n",
       "      <th>mean</th>\n",
       "      <td>1654.315776</td>\n",
       "      <td>122.732875</td>\n",
       "      <td>31.842221</td>\n",
       "      <td>20.084997</td>\n",
       "      <td>1.283653</td>\n",
       "    </tr>\n",
       "    <tr>\n",
       "      <th>std</th>\n",
       "      <td>519.111540</td>\n",
       "      <td>23.283346</td>\n",
       "      <td>19.523517</td>\n",
       "      <td>7.092566</td>\n",
       "      <td>0.131547</td>\n",
       "    </tr>\n",
       "    <tr>\n",
       "      <th>min</th>\n",
       "      <td>676.530029</td>\n",
       "      <td>70.000000</td>\n",
       "      <td>7.960000</td>\n",
       "      <td>8.850000</td>\n",
       "      <td>1.039047</td>\n",
       "    </tr>\n",
       "    <tr>\n",
       "      <th>25%</th>\n",
       "      <td>1239.874969</td>\n",
       "      <td>109.725000</td>\n",
       "      <td>14.380000</td>\n",
       "      <td>15.570000</td>\n",
       "      <td>1.171313</td>\n",
       "    </tr>\n",
       "    <tr>\n",
       "      <th>50%</th>\n",
       "      <td>1551.434998</td>\n",
       "      <td>120.580002</td>\n",
       "      <td>33.869999</td>\n",
       "      <td>17.268500</td>\n",
       "      <td>1.303297</td>\n",
       "    </tr>\n",
       "    <tr>\n",
       "      <th>75%</th>\n",
       "      <td>2073.010070</td>\n",
       "      <td>132.840004</td>\n",
       "      <td>37.827501</td>\n",
       "      <td>22.882500</td>\n",
       "      <td>1.369971</td>\n",
       "    </tr>\n",
       "    <tr>\n",
       "      <th>max</th>\n",
       "      <td>2872.870117</td>\n",
       "      <td>184.589996</td>\n",
       "      <td>117.480003</td>\n",
       "      <td>47.259998</td>\n",
       "      <td>1.598798</td>\n",
       "    </tr>\n",
       "  </tbody>\n",
       "</table>\n",
       "</div>"
      ],
      "text/plain": [
       "               SPX          GLD          USO          SLV      EUR/USD\n",
       "count  2290.000000  2290.000000  2290.000000  2290.000000  2290.000000\n",
       "mean   1654.315776   122.732875    31.842221    20.084997     1.283653\n",
       "std     519.111540    23.283346    19.523517     7.092566     0.131547\n",
       "min     676.530029    70.000000     7.960000     8.850000     1.039047\n",
       "25%    1239.874969   109.725000    14.380000    15.570000     1.171313\n",
       "50%    1551.434998   120.580002    33.869999    17.268500     1.303297\n",
       "75%    2073.010070   132.840004    37.827501    22.882500     1.369971\n",
       "max    2872.870117   184.589996   117.480003    47.259998     1.598798"
      ]
     },
     "execution_count": 9,
     "metadata": {},
     "output_type": "execute_result"
    }
   ],
   "source": [
    "#getting statistical measures of the data\n",
    "gold_data.describe()"
   ]
  },
  {
   "cell_type": "code",
   "execution_count": 10,
   "id": "4140ac39",
   "metadata": {},
   "outputs": [],
   "source": [
    "#Correlation\n",
    "#1.Positive correlation   2.Negative correlation\n",
    "correlation=gold_data.corr()"
   ]
  },
  {
   "cell_type": "code",
   "execution_count": 13,
   "id": "753f19be",
   "metadata": {},
   "outputs": [
    {
     "data": {
      "text/plain": [
       "<AxesSubplot:>"
      ]
     },
     "execution_count": 13,
     "metadata": {},
     "output_type": "execute_result"
    },
    {
     "data": {
      "image/png": "[encoded data removed]",
      "text/plain": [
       "<Figure size 576x576 with 2 Axes>"
      ]
     },
     "metadata": {
      "needs_background": "light"
     },
     "output_type": "display_data"
    }
   ],
   "source": [
    "#constructing a heatmap to understand the correlation\n",
    "plt.figure(figsize=(8,8))\n",
    "sns.heatmap(correlation,cbar=True,square=True,fmt='.1f',annot=True,annot_kws={'size':8},cmap='Blues')"
   ]
  },
  {
   "cell_type": "code",
   "execution_count": 14,
   "id": "f7fb8e36",
   "metadata": {},
   "outputs": [
    {
     "name": "stdout",
     "output_type": "stream",
     "text": [
      "SPX        0.049345\n",
      "GLD        1.000000\n",
      "USO       -0.186360\n",
      "SLV        0.866632\n",
      "EUR/USD   -0.024375\n",
      "Name: GLD, dtype: float64\n"
     ]
    }
   ],
   "source": [
    "#correlation values of GLD\n",
    "print(correlation['GLD'])"
   ]
  },
  {
   "cell_type": "code",
   "execution_count": 16,
   "id": "dcb4348c",
   "metadata": {},
   "outputs": [
    {
     "data": {
      "text/plain": [
       "<seaborn.axisgrid.FacetGrid at 0x2818dd5c8b0>"
      ]
     },
     "execution_count": 16,
     "metadata": {},
     "output_type": "execute_result"
    },
    {
     "data": {
      "image/png": "[encoded data removed]",
      "text/plain": [
       "<Figure size 360x360 with 1 Axes>"
      ]
     },
     "metadata": {
      "needs_background": "light"
     },
     "output_type": "display_data"
    }
   ],
   "source": [
    "#checking the distribution of the gold prices\n",
    "sns.displot(gold_data['GLD'],color='green')"
   ]
  },
  {
   "cell_type": "code",
   "execution_count": 17,
   "id": "254c835b",
   "metadata": {},
   "outputs": [],
   "source": [
    "#Splitting the features and Target\n",
    "x=gold_data.drop(['Date','GLD'],axis=1)\n",
    "Y=gold_data['GLD']"
   ]
  },
  {
   "cell_type": "code",
   "execution_count": 18,
   "id": "863ffde2",
   "metadata": {},
   "outputs": [
    {
     "name": "stdout",
     "output_type": "stream",
     "text": [
      "              SPX        USO      SLV   EUR/USD\n",
      "0     1447.160034  78.470001  15.1800  1.471692\n",
      "1     1447.160034  78.370003  15.2850  1.474491\n",
      "2     1411.630005  77.309998  15.1670  1.475492\n",
      "3     1416.180054  75.500000  15.0530  1.468299\n",
      "4     1390.189941  76.059998  15.5900  1.557099\n",
      "...           ...        ...      ...       ...\n",
      "2285  2671.919922  14.060000  15.5100  1.186789\n",
      "2286  2697.790039  14.370000  15.5300  1.184722\n",
      "2287  2723.070068  14.410000  15.7400  1.191753\n",
      "2288  2730.129883  14.380000  15.5600  1.193118\n",
      "2289  2725.780029  14.405800  15.4542  1.182033\n",
      "\n",
      "[2290 rows x 4 columns]\n"
     ]
    }
   ],
   "source": [
    "print(x)"
   ]
  },
  {
   "cell_type": "code",
   "execution_count": 20,
   "id": "9e6c11d9",
   "metadata": {},
   "outputs": [
    {
     "name": "stdout",
     "output_type": "stream",
     "text": [
      "0        84.860001\n",
      "1        85.570000\n",
      "2        85.129997\n",
      "3        84.769997\n",
      "4        86.779999\n",
      "           ...    \n",
      "2285    124.589996\n",
      "2286    124.330002\n",
      "2287    125.180000\n",
      "2288    124.489998\n",
      "2289    122.543800\n",
      "Name: GLD, Length: 2290, dtype: float64\n"
     ]
    }
   ],
   "source": [
    "print(Y)"
   ]
  },
  {
   "cell_type": "code",
   "execution_count": 21,
   "id": "61d1a34f",
   "metadata": {},
   "outputs": [],
   "source": [
    "#Splitting into Taining data and Test data\n",
    "x_train, x_test, y_train, y_test=train_test_split(x,Y,test_size=0.2,random_state=2)"
   ]
  },
  {
   "cell_type": "code",
   "execution_count": 22,
   "id": "87775ef4",
   "metadata": {},
   "outputs": [],
   "source": [
    "#Model Training\n",
    "#Random Forest Regressor\n",
    "regressor=RandomForestRegressor(n_estimators=100)"
   ]
  },
  {
   "cell_type": "code",
   "execution_count": 23,
   "id": "4d9d0bd7",
   "metadata": {},
   "outputs": [
    {
     "data": {
      "text/plain": [
       "RandomForestRegressor()"
      ]
     },
     "execution_count": 23,
     "metadata": {},
     "output_type": "execute_result"
    }
   ],
   "source": [
    "#training the model\n",
    "regressor.fit(x_train,y_train)"
   ]
  },
  {
   "cell_type": "code",
   "execution_count": 24,
   "id": "3b7b2184",
   "metadata": {},
   "outputs": [],
   "source": [
    "#Model evaluation\n",
    "#prdeiction on test data\n",
    "test_data_prediction=regressor.predict(x_test)"
   ]
  },
  {
   "cell_type": "code",
   "execution_count": 25,
   "id": "d4409328",
   "metadata": {},
   "outputs": [
    {
     "name": "stdout",
     "output_type": "stream",
     "text": [
      "[168.64799944  82.01229988 115.76409998 127.60610058 120.71510159\n",
      " 154.77259826 150.31289906 125.90950034 117.54849873 126.0349009\n",
      " 116.82060088 171.53210066 141.80609837 167.8222984  115.04620008\n",
      " 117.73610027 139.51320312 170.50990118 159.92460341 157.80229923\n",
      " 155.06519994 125.2583002  175.18839945 156.92390336 125.27930042\n",
      "  93.92099965  77.01880021 120.29250008 119.03799959 167.49199952\n",
      "  88.01140037 125.22590019  91.17250044 117.62280012 121.06519899\n",
      " 135.94320123 115.4557012  115.89470061 146.77809949 107.20230098\n",
      " 104.3156022   87.10849794 126.46180051 118.051      153.06209854\n",
      " 119.64580021 108.33429991 108.47539846  93.19140038 127.09129768\n",
      "  75.23150041 113.61609907 121.01160057 111.13449942 118.83649895\n",
      " 120.89639918 159.14889993 168.04400074 146.82079648  86.18669899\n",
      "  94.29210023  86.86329897  90.50249979 118.94360049 126.48210048\n",
      " 127.58609993 169.83099941 122.34749922 117.37139905  98.38100033\n",
      " 168.37410131 142.93849768 131.9725025  121.13720219 121.1193993\n",
      " 119.56290067 114.65750157 118.34920031 107.33200078 127.8603004\n",
      " 113.8456001  107.31599978 116.67360063 119.65739925  88.92270081\n",
      "  88.34549884 146.65250212 127.10990027 113.38300044 110.49129851\n",
      " 108.36829908  77.25969911 170.30950236 114.03399924 121.55259903\n",
      " 128.09810209 154.93809831  91.75819916 135.24980091 158.91060389\n",
      " 125.16350092 125.45800075 130.78910145 114.97270146 119.76609993\n",
      "  92.04249982 110.05869904 167.2335989  156.91829989 114.12519935\n",
      " 106.76690123  80.14769961 113.32660009 125.80480035 107.77929933\n",
      " 119.3167009  155.45130286 159.47639961 120.11299983 134.84540264\n",
      " 101.39769995 117.46229794 119.2634003  112.76420062 102.75249908\n",
      " 159.81479842  98.92980034 147.14379857 125.45630126 169.88629874\n",
      " 125.76289899 127.44639726 127.17950114 113.75089935 113.15150089\n",
      " 123.57959922 102.09339856  89.34009982 124.82919966 101.90939941\n",
      " 107.35319897 113.42990089 117.17140073  98.93869946 121.56030073\n",
      " 163.04699926  87.26009829 106.78079994 117.21950103 127.64870074\n",
      " 124.26170071  80.77189891 120.50430068 158.52549802  87.91549965\n",
      " 110.29609929 118.66919943 172.83939825 102.90029905 105.15830071\n",
      " 122.65430026 158.72629738  87.70399832  93.53060058 112.5758002\n",
      " 177.14649906 114.09869981 119.26900045  94.71640102 125.63880038\n",
      " 166.54060089 114.72740056 116.8514016   88.44409895 148.77930081\n",
      " 120.273799    89.63449989 112.17200015 117.19820055 118.67610127\n",
      "  88.04469939  94.1070002  117.0265002  118.61410208 120.22300059\n",
      " 126.49059862 121.96920008 150.05100033 165.5449005  118.50979973\n",
      " 120.47000162 151.44860074 118.62369921 172.61439838 105.80669941\n",
      " 104.89890144 150.35320082 113.89890069 124.71880119 146.72729966\n",
      " 119.50900139 115.34910079 112.74360023 113.65840163 142.83070107\n",
      " 118.15589733 102.8887003  115.70450134 103.95590169  98.50220043\n",
      " 117.42840047  90.49420021  91.43540024 153.36859894 102.69709977\n",
      " 154.78230127 114.41650126 138.95520081  90.02959817 115.48099932\n",
      " 114.32739977 123.15890022 121.66430081 165.33090175  92.85209969\n",
      " 135.1262009  121.34939924 120.65710098 104.77090045 142.62910283\n",
      " 121.50479921 116.83270047 113.4067005  127.04979755 122.66999944\n",
      " 125.76429968 121.25550039  86.80719904 132.45190092 144.20120193\n",
      "  92.66179989 157.5053997  158.52780337 126.27639944 165.03279925\n",
      " 108.78239953 109.87460116 103.54739808  94.22360055 127.70530254\n",
      " 107.05780059 161.03729957 121.51330057 131.99889999 130.78690128\n",
      " 160.23329913  90.11639831 174.7757012  127.55880051 126.49329872\n",
      "  86.40459904 124.59579978 150.29689752  89.78360016 107.07690003\n",
      " 109.00059996  84.49899903 135.76649954 155.04740215 139.37920305\n",
      "  74.31870027 152.83270127 126.13699995 126.80220035 127.49099895\n",
      " 108.49609942 156.32870004 114.60340125 116.91670119 125.64669946\n",
      " 153.88760156 121.51409976 156.4734984   92.96320043 125.59740142\n",
      " 125.52540006  88.07810044  92.26339929 126.35599951 128.3471035\n",
      " 113.33740058 117.73469724 120.88140047 127.00219819 119.5823011\n",
      " 135.90130021  93.854899   119.64220035 113.35110091  94.3972996\n",
      " 108.83429911  87.62629951 109.17309953  89.7194999   92.30590034\n",
      " 131.8779027  162.40760001  89.37420007 119.92050062 133.13440167\n",
      " 123.84130035 128.52860185 101.95189835  89.02139855 131.41390063\n",
      " 119.83790006 108.74849983 169.00460101 115.19969997  86.61639888\n",
      " 118.81250063  91.18029965 162.00710061 116.69620036 121.67279979\n",
      " 160.18169844 120.09219932 112.62069942 108.49309878 126.64840016\n",
      "  75.93430051 102.93459985 127.67930243 121.74769895  92.56659983\n",
      " 131.6496004  118.04450085 116.06529997 154.67120278 159.07600021\n",
      " 110.16159924 152.98249795 119.15750077 160.29860141 118.41960058\n",
      " 157.86639883 115.07999932 116.30580018 147.83129898 114.81220046\n",
      " 125.5659985  166.42099977 117.95640012 124.98959921 153.23660326\n",
      " 153.41910243 132.23370009 114.74460044 121.12190211 125.30750067\n",
      "  89.91790005 123.24449977 154.99320143 111.69150061 106.87769987\n",
      " 162.21660193 118.63230029 165.4985995  134.30260077 114.80979936\n",
      " 152.99479901 168.84450072 114.52240034 113.90270109 157.6220992\n",
      "  85.282399   127.12900053 127.91370022 129.02579946 124.17270073\n",
      " 123.75040047  90.52300074 152.98940097  97.1120998  137.31669939\n",
      "  89.13359898 107.21579965 115.1356007  112.75420091 124.12449925\n",
      "  91.34959879 125.43980149 162.32249845 119.94559934 165.02920059\n",
      " 126.52989824 112.32360011 127.67779919  95.14299842  90.75909946\n",
      " 103.92289927 120.78270007  82.89559938 126.45329974 160.77570471\n",
      " 117.45220094 118.12440003 119.57920017 122.69749969 119.99390134\n",
      " 121.50109987 118.08170055 107.16549959 148.30769965 126.15369818\n",
      " 115.8206007   74.09759977 127.86940115 154.86780081 121.91099982\n",
      " 125.62840061  88.76590004 103.15649858 123.91610084 120.27980037\n",
      "  73.49750074 151.13649951 120.95880072 104.4746      86.71889791\n",
      " 115.27289866 172.22669848 119.87570039 160.36339801 113.26549904\n",
      " 121.09330015 118.30730123  95.97489984 118.68659966 125.97770021\n",
      " 118.50429955  95.67510011 154.44070185 122.19629986 147.7143997\n",
      " 159.56760272 113.84660005 122.56579916 149.8911976  126.98850055\n",
      " 165.89400057 135.72790058 120.1174995  166.72169826 108.40009896\n",
      " 121.55209884 139.94120103 107.07899933]\n"
     ]
    }
   ],
   "source": [
    "print(test_data_prediction)"
   ]
  },
  {
   "cell_type": "code",
   "execution_count": 26,
   "id": "b15d05ef",
   "metadata": {},
   "outputs": [
    {
     "name": "stdout",
     "output_type": "stream",
     "text": [
      "R squared error :  0.9894305599908013\n"
     ]
    }
   ],
   "source": [
    "#Comparing the predicted values with actual values\n",
    "#R squared error\n",
    "error_score=metrics.r2_score(y_test,test_data_prediction)\n",
    "print(\"R squared error : \",error_score)"
   ]
  },
  {
   "cell_type": "code",
   "execution_count": 27,
   "id": "9491ce56",
   "metadata": {},
   "outputs": [
    {
     "data": {
      "image/png": "[encoded data removed]",
      "text/plain": [
       "<Figure size 432x288 with 1 Axes>"
      ]
     },
     "metadata": {
      "needs_background": "light"
     },
     "output_type": "display_data"
    }
   ],
   "source": [
    "#Compare the actual values and predicted values in a plot\n",
    "y_test=list(y_test)\n",
    "plt.plot(y_test,color='blue',label='Actual Value')\n",
    "plt.plot(test_data_prediction,color='green',label='Predicted Value')\n",
    "plt.title('Actual Price v/s Predicted Price')\n",
    "plt.xlabel(\"Number of values\")\n",
    "plt.ylabel(\"GLD price\")\n",
    "plt.legend()\n",
    "plt.show()"
   ]
  },
  {
   "cell_type": "code",
   "execution_count": null,
   "id": "df17373e",
   "metadata": {},
   "outputs": [],
   "source": []
  }
 ],
 "metadata": {
  "kernelspec": {
   "display_name": "Python 3",
   "language": "python",
   "name": "python3"
  },
  "language_info": {
   "codemirror_mode": {
    "name": "ipython",
    "version": 3
   },
   "file_extension": ".py",
   "mimetype": "text/x-python",
   "name": "python",
   "nbconvert_exporter": "python",
   "pygments_lexer": "ipython3",
   "version": "3.8.8"
  }
 },
 "nbformat": 4,
 "nbformat_minor": 5
}
